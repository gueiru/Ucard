{
  "nbformat": 4,
  "nbformat_minor": 0,
  "metadata": {
    "colab": {
      "provenance": []
    },
    "kernelspec": {
      "name": "python3",
      "display_name": "Python 3"
    },
    "language_info": {
      "name": "python"
    }
  },
  "cells": [
    {
      "cell_type": "code",
      "execution_count": 24,
      "metadata": {
        "colab": {
          "base_uri": "https://localhost:8080/"
        },
        "id": "zOoVSRq-0GGS",
        "outputId": "a7050480-a9d5-4841-88fa-5323630da67c"
      },
      "outputs": [
        {
          "output_type": "stream",
          "name": "stdout",
          "text": [
            "VA305\n",
            "Complete!\n"
          ]
        }
      ],
      "source": [
        "import email.message\n",
        "import random\n",
        "import smtplib\n",
        "import random\n",
        "\n",
        "number = random.randint(1,1000)\n",
        "number = str(number)\n",
        "en = \"abcdefghijklmnopqrstuvwxyzABCDEFGHIJKLMNOPQRSTUVWXYZ\"\n",
        "pwd = ''\n",
        "for i in range(2):\n",
        "    pwd = pwd + random.choice(en)\n",
        "password = pwd + number\n",
        "print(password)\n",
        "\n",
        "from email.mime.multipart import MIMEMultipart\n",
        "from email.mime.text import MIMEText\n",
        "\n",
        "content = MIMEMultipart()  #建立MIMEMultipart物件\n",
        "content[\"subject\"] = \"Ucard forgot reset\"  #郵件標題\n",
        "content[\"from\"] = \"ucard112408@gmail.com\"  #寄件者\n",
        "content[\"to\"] = \"10946043@ntub.edu.tw\" #收件者\n",
        "content.attach(MIMEText(\"驗證碼為\"+str(password)))  #郵件內容\n",
        "with smtplib.SMTP_SSL(host=\"smtp.gmail.com\", port=465) as smtp:  # 設定SMTP伺服器\n",
        "    try:\n",
        "        smtp.ehlo()  # 驗證SMTP伺服器\n",
        "        #smtp.starttls()  # 建立加密傳輸\n",
        "        smtp.login(\"ucard112408@gmail.com\", \"qcbcezhmnjcupaam\")  # 登入寄件者gmail\n",
        "        smtp.send_message(content)  # 寄送郵件\n",
        "        print(\"Complete!\")\n",
        "    except Exception as e:\n",
        "        print(\"Error message: \", e)"
      ]
    },
    {
      "cell_type": "code",
      "source": [
        "\n"
      ],
      "metadata": {
        "id": "S1I7LPrt9Xlf",
        "colab": {
          "base_uri": "https://localhost:8080/"
        },
        "outputId": "d1cc2972-6ce3-4009-d0f2-619cecc5ca05"
      },
      "execution_count": 22,
      "outputs": [
        {
          "output_type": "stream",
          "name": "stdout",
          "text": [
            "qd728\n"
          ]
        }
      ]
    },
    {
      "cell_type": "code",
      "source": [],
      "metadata": {
        "id": "n9FMZrMy1CSo"
      },
      "execution_count": null,
      "outputs": []
    },
    {
      "cell_type": "code",
      "source": [],
      "metadata": {
        "id": "pQK9J7As3cEp"
      },
      "execution_count": null,
      "outputs": []
    },
    {
      "cell_type": "code",
      "source": [],
      "metadata": {
        "colab": {
          "base_uri": "https://localhost:8080/"
        },
        "id": "aRju69PK6Mmx",
        "outputId": "94bc5169-4435-4921-e744-c0befc0b8028"
      },
      "execution_count": null,
      "outputs": [
        {
          "output_type": "stream",
          "name": "stdout",
          "text": [
            "Complete!\n"
          ]
        }
      ]
    }
  ]
}